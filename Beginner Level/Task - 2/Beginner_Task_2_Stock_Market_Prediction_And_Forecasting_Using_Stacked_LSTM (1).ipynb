{
  "nbformat": 4,
  "nbformat_minor": 0,
  "metadata": {
    "colab": {
      "name": "Beginner Task 2: Stock Market Prediction And Forecasting Using Stacked LSTM",
      "provenance": [],
      "collapsed_sections": []
    },
    "kernelspec": {
      "name": "python3",
      "display_name": "Python 3"
    },
    "language_info": {
      "name": "python"
    }
  },
  "cells": [
    {
      "cell_type": "code",
      "execution_count": null,
      "metadata": {
        "id": "xDp_wlZswwuY"
      },
      "outputs": [],
      "source": [
        "# Importing Libraries\n",
        "import numpy as np\n",
        "import pandas as pd \n",
        "import tensorflow as tf\n",
        "from sklearn.preprocessing import MinMaxScaler \n",
        "from keras.models import Sequential \n",
        "from keras.layers import Dense, LSTM \n",
        "import math \n",
        "import seaborn as sb \n",
        "import matplotlib.pyplot as plt\n",
        "from sklearn.metrics import mean_squared_error"
      ]
    },
    {
      "cell_type": "code",
      "source": [
        "# Reading the dataset\n",
        "data = pd.read_csv('https://raw.githubusercontent.com/mwitiderrick/stockprice/master/NSE-TATAGLOBAL.csv')\n",
        "# Printing the first 5 rows of the dataset\n",
        "data.head()\n"
      ],
      "metadata": {
        "colab": {
          "base_uri": "https://localhost:8080/",
          "height": 206
        },
        "id": "3jWy_Wuuxp-J",
        "outputId": "db4baaf9-8fe1-4523-d47a-9ed5e2dd293a"
      },
      "execution_count": null,
      "outputs": [
        {
          "output_type": "execute_result",
          "data": {
            "text/html": [
              "\n",
              "  <div id=\"df-456f693d-8110-440b-b4bb-69adc692f54a\">\n",
              "    <div class=\"colab-df-container\">\n",
              "      <div>\n",
              "<style scoped>\n",
              "    .dataframe tbody tr th:only-of-type {\n",
              "        vertical-align: middle;\n",
              "    }\n",
              "\n",
              "    .dataframe tbody tr th {\n",
              "        vertical-align: top;\n",
              "    }\n",
              "\n",
              "    .dataframe thead th {\n",
              "        text-align: right;\n",
              "    }\n",
              "</style>\n",
              "<table border=\"1\" class=\"dataframe\">\n",
              "  <thead>\n",
              "    <tr style=\"text-align: right;\">\n",
              "      <th></th>\n",
              "      <th>Date</th>\n",
              "      <th>Open</th>\n",
              "      <th>High</th>\n",
              "      <th>Low</th>\n",
              "      <th>Last</th>\n",
              "      <th>Close</th>\n",
              "      <th>Total Trade Quantity</th>\n",
              "      <th>Turnover (Lacs)</th>\n",
              "    </tr>\n",
              "  </thead>\n",
              "  <tbody>\n",
              "    <tr>\n",
              "      <th>0</th>\n",
              "      <td>2018-09-28</td>\n",
              "      <td>234.05</td>\n",
              "      <td>235.95</td>\n",
              "      <td>230.20</td>\n",
              "      <td>233.50</td>\n",
              "      <td>233.75</td>\n",
              "      <td>3069914</td>\n",
              "      <td>7162.35</td>\n",
              "    </tr>\n",
              "    <tr>\n",
              "      <th>1</th>\n",
              "      <td>2018-09-27</td>\n",
              "      <td>234.55</td>\n",
              "      <td>236.80</td>\n",
              "      <td>231.10</td>\n",
              "      <td>233.80</td>\n",
              "      <td>233.25</td>\n",
              "      <td>5082859</td>\n",
              "      <td>11859.95</td>\n",
              "    </tr>\n",
              "    <tr>\n",
              "      <th>2</th>\n",
              "      <td>2018-09-26</td>\n",
              "      <td>240.00</td>\n",
              "      <td>240.00</td>\n",
              "      <td>232.50</td>\n",
              "      <td>235.00</td>\n",
              "      <td>234.25</td>\n",
              "      <td>2240909</td>\n",
              "      <td>5248.60</td>\n",
              "    </tr>\n",
              "    <tr>\n",
              "      <th>3</th>\n",
              "      <td>2018-09-25</td>\n",
              "      <td>233.30</td>\n",
              "      <td>236.75</td>\n",
              "      <td>232.00</td>\n",
              "      <td>236.25</td>\n",
              "      <td>236.10</td>\n",
              "      <td>2349368</td>\n",
              "      <td>5503.90</td>\n",
              "    </tr>\n",
              "    <tr>\n",
              "      <th>4</th>\n",
              "      <td>2018-09-24</td>\n",
              "      <td>233.55</td>\n",
              "      <td>239.20</td>\n",
              "      <td>230.75</td>\n",
              "      <td>234.00</td>\n",
              "      <td>233.30</td>\n",
              "      <td>3423509</td>\n",
              "      <td>7999.55</td>\n",
              "    </tr>\n",
              "  </tbody>\n",
              "</table>\n",
              "</div>\n",
              "      <button class=\"colab-df-convert\" onclick=\"convertToInteractive('df-456f693d-8110-440b-b4bb-69adc692f54a')\"\n",
              "              title=\"Convert this dataframe to an interactive table.\"\n",
              "              style=\"display:none;\">\n",
              "        \n",
              "  <svg xmlns=\"http://www.w3.org/2000/svg\" height=\"24px\"viewBox=\"0 0 24 24\"\n",
              "       width=\"24px\">\n",
              "    <path d=\"M0 0h24v24H0V0z\" fill=\"none\"/>\n",
              "    <path d=\"M18.56 5.44l.94 2.06.94-2.06 2.06-.94-2.06-.94-.94-2.06-.94 2.06-2.06.94zm-11 1L8.5 8.5l.94-2.06 2.06-.94-2.06-.94L8.5 2.5l-.94 2.06-2.06.94zm10 10l.94 2.06.94-2.06 2.06-.94-2.06-.94-.94-2.06-.94 2.06-2.06.94z\"/><path d=\"M17.41 7.96l-1.37-1.37c-.4-.4-.92-.59-1.43-.59-.52 0-1.04.2-1.43.59L10.3 9.45l-7.72 7.72c-.78.78-.78 2.05 0 2.83L4 21.41c.39.39.9.59 1.41.59.51 0 1.02-.2 1.41-.59l7.78-7.78 2.81-2.81c.8-.78.8-2.07 0-2.86zM5.41 20L4 18.59l7.72-7.72 1.47 1.35L5.41 20z\"/>\n",
              "  </svg>\n",
              "      </button>\n",
              "      \n",
              "  <style>\n",
              "    .colab-df-container {\n",
              "      display:flex;\n",
              "      flex-wrap:wrap;\n",
              "      gap: 12px;\n",
              "    }\n",
              "\n",
              "    .colab-df-convert {\n",
              "      background-color: #E8F0FE;\n",
              "      border: none;\n",
              "      border-radius: 50%;\n",
              "      cursor: pointer;\n",
              "      display: none;\n",
              "      fill: #1967D2;\n",
              "      height: 32px;\n",
              "      padding: 0 0 0 0;\n",
              "      width: 32px;\n",
              "    }\n",
              "\n",
              "    .colab-df-convert:hover {\n",
              "      background-color: #E2EBFA;\n",
              "      box-shadow: 0px 1px 2px rgba(60, 64, 67, 0.3), 0px 1px 3px 1px rgba(60, 64, 67, 0.15);\n",
              "      fill: #174EA6;\n",
              "    }\n",
              "\n",
              "    [theme=dark] .colab-df-convert {\n",
              "      background-color: #3B4455;\n",
              "      fill: #D2E3FC;\n",
              "    }\n",
              "\n",
              "    [theme=dark] .colab-df-convert:hover {\n",
              "      background-color: #434B5C;\n",
              "      box-shadow: 0px 1px 3px 1px rgba(0, 0, 0, 0.15);\n",
              "      filter: drop-shadow(0px 1px 2px rgba(0, 0, 0, 0.3));\n",
              "      fill: #FFFFFF;\n",
              "    }\n",
              "  </style>\n",
              "\n",
              "      <script>\n",
              "        const buttonEl =\n",
              "          document.querySelector('#df-456f693d-8110-440b-b4bb-69adc692f54a button.colab-df-convert');\n",
              "        buttonEl.style.display =\n",
              "          google.colab.kernel.accessAllowed ? 'block' : 'none';\n",
              "\n",
              "        async function convertToInteractive(key) {\n",
              "          const element = document.querySelector('#df-456f693d-8110-440b-b4bb-69adc692f54a');\n",
              "          const dataTable =\n",
              "            await google.colab.kernel.invokeFunction('convertToInteractive',\n",
              "                                                     [key], {});\n",
              "          if (!dataTable) return;\n",
              "\n",
              "          const docLinkHtml = 'Like what you see? Visit the ' +\n",
              "            '<a target=\"_blank\" href=https://colab.research.google.com/notebooks/data_table.ipynb>data table notebook</a>'\n",
              "            + ' to learn more about interactive tables.';\n",
              "          element.innerHTML = '';\n",
              "          dataTable['output_type'] = 'display_data';\n",
              "          await google.colab.output.renderOutput(dataTable, element);\n",
              "          const docLink = document.createElement('div');\n",
              "          docLink.innerHTML = docLinkHtml;\n",
              "          element.appendChild(docLink);\n",
              "        }\n",
              "      </script>\n",
              "    </div>\n",
              "  </div>\n",
              "  "
            ],
            "text/plain": [
              "         Date    Open    High  ...   Close  Total Trade Quantity  Turnover (Lacs)\n",
              "0  2018-09-28  234.05  235.95  ...  233.75               3069914          7162.35\n",
              "1  2018-09-27  234.55  236.80  ...  233.25               5082859         11859.95\n",
              "2  2018-09-26  240.00  240.00  ...  234.25               2240909          5248.60\n",
              "3  2018-09-25  233.30  236.75  ...  236.10               2349368          5503.90\n",
              "4  2018-09-24  233.55  239.20  ...  233.30               3423509          7999.55\n",
              "\n",
              "[5 rows x 8 columns]"
            ]
          },
          "metadata": {},
          "execution_count": 4
        }
      ]
    },
    {
      "cell_type": "code",
      "source": [
        "# Printing the last 5 rows of the dataset\n",
        "data.tail()"
      ],
      "metadata": {
        "colab": {
          "base_uri": "https://localhost:8080/",
          "height": 206
        },
        "id": "lyZPsVrrxs-N",
        "outputId": "283db20e-0fe8-4a52-d264-8cb239af96af"
      },
      "execution_count": null,
      "outputs": [
        {
          "output_type": "execute_result",
          "data": {
            "text/html": [
              "\n",
              "  <div id=\"df-425cd1ab-bacb-43ac-b98c-b7c0a6f2481c\">\n",
              "    <div class=\"colab-df-container\">\n",
              "      <div>\n",
              "<style scoped>\n",
              "    .dataframe tbody tr th:only-of-type {\n",
              "        vertical-align: middle;\n",
              "    }\n",
              "\n",
              "    .dataframe tbody tr th {\n",
              "        vertical-align: top;\n",
              "    }\n",
              "\n",
              "    .dataframe thead th {\n",
              "        text-align: right;\n",
              "    }\n",
              "</style>\n",
              "<table border=\"1\" class=\"dataframe\">\n",
              "  <thead>\n",
              "    <tr style=\"text-align: right;\">\n",
              "      <th></th>\n",
              "      <th>Date</th>\n",
              "      <th>Open</th>\n",
              "      <th>High</th>\n",
              "      <th>Low</th>\n",
              "      <th>Last</th>\n",
              "      <th>Close</th>\n",
              "      <th>Total Trade Quantity</th>\n",
              "      <th>Turnover (Lacs)</th>\n",
              "    </tr>\n",
              "  </thead>\n",
              "  <tbody>\n",
              "    <tr>\n",
              "      <th>2030</th>\n",
              "      <td>2010-07-27</td>\n",
              "      <td>117.6</td>\n",
              "      <td>119.50</td>\n",
              "      <td>112.00</td>\n",
              "      <td>118.80</td>\n",
              "      <td>118.65</td>\n",
              "      <td>586100</td>\n",
              "      <td>694.98</td>\n",
              "    </tr>\n",
              "    <tr>\n",
              "      <th>2031</th>\n",
              "      <td>2010-07-26</td>\n",
              "      <td>120.1</td>\n",
              "      <td>121.00</td>\n",
              "      <td>117.10</td>\n",
              "      <td>117.10</td>\n",
              "      <td>117.60</td>\n",
              "      <td>658440</td>\n",
              "      <td>780.01</td>\n",
              "    </tr>\n",
              "    <tr>\n",
              "      <th>2032</th>\n",
              "      <td>2010-07-23</td>\n",
              "      <td>121.8</td>\n",
              "      <td>121.95</td>\n",
              "      <td>120.25</td>\n",
              "      <td>120.35</td>\n",
              "      <td>120.65</td>\n",
              "      <td>281312</td>\n",
              "      <td>340.31</td>\n",
              "    </tr>\n",
              "    <tr>\n",
              "      <th>2033</th>\n",
              "      <td>2010-07-22</td>\n",
              "      <td>120.3</td>\n",
              "      <td>122.00</td>\n",
              "      <td>120.25</td>\n",
              "      <td>120.75</td>\n",
              "      <td>120.90</td>\n",
              "      <td>293312</td>\n",
              "      <td>355.17</td>\n",
              "    </tr>\n",
              "    <tr>\n",
              "      <th>2034</th>\n",
              "      <td>2010-07-21</td>\n",
              "      <td>122.1</td>\n",
              "      <td>123.00</td>\n",
              "      <td>121.05</td>\n",
              "      <td>121.10</td>\n",
              "      <td>121.55</td>\n",
              "      <td>658666</td>\n",
              "      <td>803.56</td>\n",
              "    </tr>\n",
              "  </tbody>\n",
              "</table>\n",
              "</div>\n",
              "      <button class=\"colab-df-convert\" onclick=\"convertToInteractive('df-425cd1ab-bacb-43ac-b98c-b7c0a6f2481c')\"\n",
              "              title=\"Convert this dataframe to an interactive table.\"\n",
              "              style=\"display:none;\">\n",
              "        \n",
              "  <svg xmlns=\"http://www.w3.org/2000/svg\" height=\"24px\"viewBox=\"0 0 24 24\"\n",
              "       width=\"24px\">\n",
              "    <path d=\"M0 0h24v24H0V0z\" fill=\"none\"/>\n",
              "    <path d=\"M18.56 5.44l.94 2.06.94-2.06 2.06-.94-2.06-.94-.94-2.06-.94 2.06-2.06.94zm-11 1L8.5 8.5l.94-2.06 2.06-.94-2.06-.94L8.5 2.5l-.94 2.06-2.06.94zm10 10l.94 2.06.94-2.06 2.06-.94-2.06-.94-.94-2.06-.94 2.06-2.06.94z\"/><path d=\"M17.41 7.96l-1.37-1.37c-.4-.4-.92-.59-1.43-.59-.52 0-1.04.2-1.43.59L10.3 9.45l-7.72 7.72c-.78.78-.78 2.05 0 2.83L4 21.41c.39.39.9.59 1.41.59.51 0 1.02-.2 1.41-.59l7.78-7.78 2.81-2.81c.8-.78.8-2.07 0-2.86zM5.41 20L4 18.59l7.72-7.72 1.47 1.35L5.41 20z\"/>\n",
              "  </svg>\n",
              "      </button>\n",
              "      \n",
              "  <style>\n",
              "    .colab-df-container {\n",
              "      display:flex;\n",
              "      flex-wrap:wrap;\n",
              "      gap: 12px;\n",
              "    }\n",
              "\n",
              "    .colab-df-convert {\n",
              "      background-color: #E8F0FE;\n",
              "      border: none;\n",
              "      border-radius: 50%;\n",
              "      cursor: pointer;\n",
              "      display: none;\n",
              "      fill: #1967D2;\n",
              "      height: 32px;\n",
              "      padding: 0 0 0 0;\n",
              "      width: 32px;\n",
              "    }\n",
              "\n",
              "    .colab-df-convert:hover {\n",
              "      background-color: #E2EBFA;\n",
              "      box-shadow: 0px 1px 2px rgba(60, 64, 67, 0.3), 0px 1px 3px 1px rgba(60, 64, 67, 0.15);\n",
              "      fill: #174EA6;\n",
              "    }\n",
              "\n",
              "    [theme=dark] .colab-df-convert {\n",
              "      background-color: #3B4455;\n",
              "      fill: #D2E3FC;\n",
              "    }\n",
              "\n",
              "    [theme=dark] .colab-df-convert:hover {\n",
              "      background-color: #434B5C;\n",
              "      box-shadow: 0px 1px 3px 1px rgba(0, 0, 0, 0.15);\n",
              "      filter: drop-shadow(0px 1px 2px rgba(0, 0, 0, 0.3));\n",
              "      fill: #FFFFFF;\n",
              "    }\n",
              "  </style>\n",
              "\n",
              "      <script>\n",
              "        const buttonEl =\n",
              "          document.querySelector('#df-425cd1ab-bacb-43ac-b98c-b7c0a6f2481c button.colab-df-convert');\n",
              "        buttonEl.style.display =\n",
              "          google.colab.kernel.accessAllowed ? 'block' : 'none';\n",
              "\n",
              "        async function convertToInteractive(key) {\n",
              "          const element = document.querySelector('#df-425cd1ab-bacb-43ac-b98c-b7c0a6f2481c');\n",
              "          const dataTable =\n",
              "            await google.colab.kernel.invokeFunction('convertToInteractive',\n",
              "                                                     [key], {});\n",
              "          if (!dataTable) return;\n",
              "\n",
              "          const docLinkHtml = 'Like what you see? Visit the ' +\n",
              "            '<a target=\"_blank\" href=https://colab.research.google.com/notebooks/data_table.ipynb>data table notebook</a>'\n",
              "            + ' to learn more about interactive tables.';\n",
              "          element.innerHTML = '';\n",
              "          dataTable['output_type'] = 'display_data';\n",
              "          await google.colab.output.renderOutput(dataTable, element);\n",
              "          const docLink = document.createElement('div');\n",
              "          docLink.innerHTML = docLinkHtml;\n",
              "          element.appendChild(docLink);\n",
              "        }\n",
              "      </script>\n",
              "    </div>\n",
              "  </div>\n",
              "  "
            ],
            "text/plain": [
              "            Date   Open    High  ...   Close  Total Trade Quantity  Turnover (Lacs)\n",
              "2030  2010-07-27  117.6  119.50  ...  118.65                586100           694.98\n",
              "2031  2010-07-26  120.1  121.00  ...  117.60                658440           780.01\n",
              "2032  2010-07-23  121.8  121.95  ...  120.65                281312           340.31\n",
              "2033  2010-07-22  120.3  122.00  ...  120.90                293312           355.17\n",
              "2034  2010-07-21  122.1  123.00  ...  121.55                658666           803.56\n",
              "\n",
              "[5 rows x 8 columns]"
            ]
          },
          "metadata": {},
          "execution_count": 5
        }
      ]
    },
    {
      "cell_type": "code",
      "source": [
        "# Printing all the columns in the dataset\n",
        "data.columns"
      ],
      "metadata": {
        "colab": {
          "base_uri": "https://localhost:8080/"
        },
        "id": "LwS8Cy5Jxvjg",
        "outputId": "91acedb5-2f10-4b85-9148-a05bed57c151"
      },
      "execution_count": null,
      "outputs": [
        {
          "output_type": "execute_result",
          "data": {
            "text/plain": [
              "Index(['Date', 'Open', 'High', 'Low', 'Last', 'Close', 'Total Trade Quantity',\n",
              "       'Turnover (Lacs)'],\n",
              "      dtype='object')"
            ]
          },
          "metadata": {},
          "execution_count": 6
        }
      ]
    },
    {
      "cell_type": "code",
      "source": [
        "# Printing the shape of the dataset\n",
        "data.shape"
      ],
      "metadata": {
        "colab": {
          "base_uri": "https://localhost:8080/"
        },
        "id": "740EnpnrxzTQ",
        "outputId": "4e3c17a2-2f1f-41fd-eb80-d243b38433c0"
      },
      "execution_count": null,
      "outputs": [
        {
          "output_type": "execute_result",
          "data": {
            "text/plain": [
              "(2035, 8)"
            ]
          },
          "metadata": {},
          "execution_count": 7
        }
      ]
    },
    {
      "cell_type": "code",
      "source": [
        "# Printing the full summary of the dataframe\n",
        "data.info()"
      ],
      "metadata": {
        "colab": {
          "base_uri": "https://localhost:8080/"
        },
        "id": "K4CHNj8tx3D9",
        "outputId": "eac7bc46-8479-4e63-b971-297c33de4dc5"
      },
      "execution_count": null,
      "outputs": [
        {
          "output_type": "stream",
          "name": "stdout",
          "text": [
            "<class 'pandas.core.frame.DataFrame'>\n",
            "RangeIndex: 2035 entries, 0 to 2034\n",
            "Data columns (total 8 columns):\n",
            " #   Column                Non-Null Count  Dtype  \n",
            "---  ------                --------------  -----  \n",
            " 0   Date                  2035 non-null   object \n",
            " 1   Open                  2035 non-null   float64\n",
            " 2   High                  2035 non-null   float64\n",
            " 3   Low                   2035 non-null   float64\n",
            " 4   Last                  2035 non-null   float64\n",
            " 5   Close                 2035 non-null   float64\n",
            " 6   Total Trade Quantity  2035 non-null   int64  \n",
            " 7   Turnover (Lacs)       2035 non-null   float64\n",
            "dtypes: float64(6), int64(1), object(1)\n",
            "memory usage: 127.3+ KB\n"
          ]
        }
      ]
    },
    {
      "cell_type": "code",
      "source": [
        "# Printing some basic statistical details of the dataframe\n",
        "data.describe()"
      ],
      "metadata": {
        "colab": {
          "base_uri": "https://localhost:8080/",
          "height": 300
        },
        "id": "LNjdYc4kx4SS",
        "outputId": "0b058ecd-bda2-47db-bf22-b94068d75202"
      },
      "execution_count": null,
      "outputs": [
        {
          "output_type": "execute_result",
          "data": {
            "text/html": [
              "\n",
              "  <div id=\"df-19a5cb3b-1b3e-47b0-b708-600ba5ef6702\">\n",
              "    <div class=\"colab-df-container\">\n",
              "      <div>\n",
              "<style scoped>\n",
              "    .dataframe tbody tr th:only-of-type {\n",
              "        vertical-align: middle;\n",
              "    }\n",
              "\n",
              "    .dataframe tbody tr th {\n",
              "        vertical-align: top;\n",
              "    }\n",
              "\n",
              "    .dataframe thead th {\n",
              "        text-align: right;\n",
              "    }\n",
              "</style>\n",
              "<table border=\"1\" class=\"dataframe\">\n",
              "  <thead>\n",
              "    <tr style=\"text-align: right;\">\n",
              "      <th></th>\n",
              "      <th>Open</th>\n",
              "      <th>High</th>\n",
              "      <th>Low</th>\n",
              "      <th>Last</th>\n",
              "      <th>Close</th>\n",
              "      <th>Total Trade Quantity</th>\n",
              "      <th>Turnover (Lacs)</th>\n",
              "    </tr>\n",
              "  </thead>\n",
              "  <tbody>\n",
              "    <tr>\n",
              "      <th>count</th>\n",
              "      <td>2035.000000</td>\n",
              "      <td>2035.000000</td>\n",
              "      <td>2035.000000</td>\n",
              "      <td>2035.000000</td>\n",
              "      <td>2035.00000</td>\n",
              "      <td>2.035000e+03</td>\n",
              "      <td>2035.000000</td>\n",
              "    </tr>\n",
              "    <tr>\n",
              "      <th>mean</th>\n",
              "      <td>149.713735</td>\n",
              "      <td>151.992826</td>\n",
              "      <td>147.293931</td>\n",
              "      <td>149.474251</td>\n",
              "      <td>149.45027</td>\n",
              "      <td>2.335681e+06</td>\n",
              "      <td>3899.980565</td>\n",
              "    </tr>\n",
              "    <tr>\n",
              "      <th>std</th>\n",
              "      <td>48.664509</td>\n",
              "      <td>49.413109</td>\n",
              "      <td>47.931958</td>\n",
              "      <td>48.732570</td>\n",
              "      <td>48.71204</td>\n",
              "      <td>2.091778e+06</td>\n",
              "      <td>4570.767877</td>\n",
              "    </tr>\n",
              "    <tr>\n",
              "      <th>min</th>\n",
              "      <td>81.100000</td>\n",
              "      <td>82.800000</td>\n",
              "      <td>80.000000</td>\n",
              "      <td>81.000000</td>\n",
              "      <td>80.95000</td>\n",
              "      <td>3.961000e+04</td>\n",
              "      <td>37.040000</td>\n",
              "    </tr>\n",
              "    <tr>\n",
              "      <th>25%</th>\n",
              "      <td>120.025000</td>\n",
              "      <td>122.100000</td>\n",
              "      <td>118.300000</td>\n",
              "      <td>120.075000</td>\n",
              "      <td>120.05000</td>\n",
              "      <td>1.146444e+06</td>\n",
              "      <td>1427.460000</td>\n",
              "    </tr>\n",
              "    <tr>\n",
              "      <th>50%</th>\n",
              "      <td>141.500000</td>\n",
              "      <td>143.400000</td>\n",
              "      <td>139.600000</td>\n",
              "      <td>141.100000</td>\n",
              "      <td>141.25000</td>\n",
              "      <td>1.783456e+06</td>\n",
              "      <td>2512.030000</td>\n",
              "    </tr>\n",
              "    <tr>\n",
              "      <th>75%</th>\n",
              "      <td>157.175000</td>\n",
              "      <td>159.400000</td>\n",
              "      <td>155.150000</td>\n",
              "      <td>156.925000</td>\n",
              "      <td>156.90000</td>\n",
              "      <td>2.813594e+06</td>\n",
              "      <td>4539.015000</td>\n",
              "    </tr>\n",
              "    <tr>\n",
              "      <th>max</th>\n",
              "      <td>327.700000</td>\n",
              "      <td>328.750000</td>\n",
              "      <td>321.650000</td>\n",
              "      <td>325.950000</td>\n",
              "      <td>325.75000</td>\n",
              "      <td>2.919102e+07</td>\n",
              "      <td>55755.080000</td>\n",
              "    </tr>\n",
              "  </tbody>\n",
              "</table>\n",
              "</div>\n",
              "      <button class=\"colab-df-convert\" onclick=\"convertToInteractive('df-19a5cb3b-1b3e-47b0-b708-600ba5ef6702')\"\n",
              "              title=\"Convert this dataframe to an interactive table.\"\n",
              "              style=\"display:none;\">\n",
              "        \n",
              "  <svg xmlns=\"http://www.w3.org/2000/svg\" height=\"24px\"viewBox=\"0 0 24 24\"\n",
              "       width=\"24px\">\n",
              "    <path d=\"M0 0h24v24H0V0z\" fill=\"none\"/>\n",
              "    <path d=\"M18.56 5.44l.94 2.06.94-2.06 2.06-.94-2.06-.94-.94-2.06-.94 2.06-2.06.94zm-11 1L8.5 8.5l.94-2.06 2.06-.94-2.06-.94L8.5 2.5l-.94 2.06-2.06.94zm10 10l.94 2.06.94-2.06 2.06-.94-2.06-.94-.94-2.06-.94 2.06-2.06.94z\"/><path d=\"M17.41 7.96l-1.37-1.37c-.4-.4-.92-.59-1.43-.59-.52 0-1.04.2-1.43.59L10.3 9.45l-7.72 7.72c-.78.78-.78 2.05 0 2.83L4 21.41c.39.39.9.59 1.41.59.51 0 1.02-.2 1.41-.59l7.78-7.78 2.81-2.81c.8-.78.8-2.07 0-2.86zM5.41 20L4 18.59l7.72-7.72 1.47 1.35L5.41 20z\"/>\n",
              "  </svg>\n",
              "      </button>\n",
              "      \n",
              "  <style>\n",
              "    .colab-df-container {\n",
              "      display:flex;\n",
              "      flex-wrap:wrap;\n",
              "      gap: 12px;\n",
              "    }\n",
              "\n",
              "    .colab-df-convert {\n",
              "      background-color: #E8F0FE;\n",
              "      border: none;\n",
              "      border-radius: 50%;\n",
              "      cursor: pointer;\n",
              "      display: none;\n",
              "      fill: #1967D2;\n",
              "      height: 32px;\n",
              "      padding: 0 0 0 0;\n",
              "      width: 32px;\n",
              "    }\n",
              "\n",
              "    .colab-df-convert:hover {\n",
              "      background-color: #E2EBFA;\n",
              "      box-shadow: 0px 1px 2px rgba(60, 64, 67, 0.3), 0px 1px 3px 1px rgba(60, 64, 67, 0.15);\n",
              "      fill: #174EA6;\n",
              "    }\n",
              "\n",
              "    [theme=dark] .colab-df-convert {\n",
              "      background-color: #3B4455;\n",
              "      fill: #D2E3FC;\n",
              "    }\n",
              "\n",
              "    [theme=dark] .colab-df-convert:hover {\n",
              "      background-color: #434B5C;\n",
              "      box-shadow: 0px 1px 3px 1px rgba(0, 0, 0, 0.15);\n",
              "      filter: drop-shadow(0px 1px 2px rgba(0, 0, 0, 0.3));\n",
              "      fill: #FFFFFF;\n",
              "    }\n",
              "  </style>\n",
              "\n",
              "      <script>\n",
              "        const buttonEl =\n",
              "          document.querySelector('#df-19a5cb3b-1b3e-47b0-b708-600ba5ef6702 button.colab-df-convert');\n",
              "        buttonEl.style.display =\n",
              "          google.colab.kernel.accessAllowed ? 'block' : 'none';\n",
              "\n",
              "        async function convertToInteractive(key) {\n",
              "          const element = document.querySelector('#df-19a5cb3b-1b3e-47b0-b708-600ba5ef6702');\n",
              "          const dataTable =\n",
              "            await google.colab.kernel.invokeFunction('convertToInteractive',\n",
              "                                                     [key], {});\n",
              "          if (!dataTable) return;\n",
              "\n",
              "          const docLinkHtml = 'Like what you see? Visit the ' +\n",
              "            '<a target=\"_blank\" href=https://colab.research.google.com/notebooks/data_table.ipynb>data table notebook</a>'\n",
              "            + ' to learn more about interactive tables.';\n",
              "          element.innerHTML = '';\n",
              "          dataTable['output_type'] = 'display_data';\n",
              "          await google.colab.output.renderOutput(dataTable, element);\n",
              "          const docLink = document.createElement('div');\n",
              "          docLink.innerHTML = docLinkHtml;\n",
              "          element.appendChild(docLink);\n",
              "        }\n",
              "      </script>\n",
              "    </div>\n",
              "  </div>\n",
              "  "
            ],
            "text/plain": [
              "              Open         High  ...  Total Trade Quantity  Turnover (Lacs)\n",
              "count  2035.000000  2035.000000  ...          2.035000e+03      2035.000000\n",
              "mean    149.713735   151.992826  ...          2.335681e+06      3899.980565\n",
              "std      48.664509    49.413109  ...          2.091778e+06      4570.767877\n",
              "min      81.100000    82.800000  ...          3.961000e+04        37.040000\n",
              "25%     120.025000   122.100000  ...          1.146444e+06      1427.460000\n",
              "50%     141.500000   143.400000  ...          1.783456e+06      2512.030000\n",
              "75%     157.175000   159.400000  ...          2.813594e+06      4539.015000\n",
              "max     327.700000   328.750000  ...          2.919102e+07     55755.080000\n",
              "\n",
              "[8 rows x 7 columns]"
            ]
          },
          "metadata": {},
          "execution_count": 9
        }
      ]
    },
    {
      "cell_type": "code",
      "source": [
        "# Checking missing values\n",
        "data.isnull().sum()"
      ],
      "metadata": {
        "colab": {
          "base_uri": "https://localhost:8080/"
        },
        "id": "m-4fQ8H2x7Y2",
        "outputId": "f613a9a1-3269-4ffd-df61-4d0727c7cb67"
      },
      "execution_count": null,
      "outputs": [
        {
          "output_type": "execute_result",
          "data": {
            "text/plain": [
              "Date                    0\n",
              "Open                    0\n",
              "High                    0\n",
              "Low                     0\n",
              "Last                    0\n",
              "Close                   0\n",
              "Total Trade Quantity    0\n",
              "Turnover (Lacs)         0\n",
              "dtype: int64"
            ]
          },
          "metadata": {},
          "execution_count": 10
        }
      ]
    },
    {
      "cell_type": "code",
      "source": [
        "plt.figure(figsize = (9,3))\n",
        "plt.title('Tata Stocks Closing Price')\n",
        "plt.plot(data['Close'])\n",
        "plt.xlabel('Date',fontsize=15)\n",
        "plt.ylabel('Close',fontsize=15)"
      ],
      "metadata": {
        "colab": {
          "base_uri": "https://localhost:8080/",
          "height": 263
        },
        "id": "bjo2oK5GyARQ",
        "outputId": "37b2048d-a1c5-4508-ae74-2be77d8dcbab"
      },
      "execution_count": null,
      "outputs": [
        {
          "output_type": "execute_result",
          "data": {
            "text/plain": [
              "Text(0, 0.5, 'Close')"
            ]
          },
          "metadata": {},
          "execution_count": 11
        },
        {
          "output_type": "display_data",
          "data": {
            "image/png": "[encoded data removed]",
            "text/plain": [
              "<Figure size 648x216 with 1 Axes>"
            ]
          },
          "metadata": {
            "needs_background": "light"
          }
        }
      ]
    },
    {
      "cell_type": "code",
      "source": [
        "# Storing the target attribute in the 'Close' Column.\n",
        "data_close = data.reset_index()['Close']\n",
        "data_close.head()"
      ],
      "metadata": {
        "colab": {
          "base_uri": "https://localhost:8080/"
        },
        "id": "oY8sckBtyBjh",
        "outputId": "b0f74c91-24ff-4178-ae83-ad1152888c8e"
      },
      "execution_count": null,
      "outputs": [
        {
          "output_type": "execute_result",
          "data": {
            "text/plain": [
              "0    233.75\n",
              "1    233.25\n",
              "2    234.25\n",
              "3    236.10\n",
              "4    233.30\n",
              "Name: Close, dtype: float64"
            ]
          },
          "metadata": {},
          "execution_count": 12
        }
      ]
    },
    {
      "cell_type": "code",
      "source": [
        "# Using MinMaxScaler to scale down all the target variables in the range of (0, 1) for the ease of computation.\n",
        "scaler = MinMaxScaler(feature_range = (0, 1))\n",
        "data_close = scaler.fit_transform(np.array(data_close).reshape(-1, 1))\n",
        "data_close"
      ],
      "metadata": {
        "colab": {
          "base_uri": "https://localhost:8080/"
        },
        "id": "bK0ikZ2nyEML",
        "outputId": "cce93f70-eb32-47b8-eda4-968caedc643d"
      },
      "execution_count": null,
      "outputs": [
        {
          "output_type": "execute_result",
          "data": {
            "text/plain": [
              "array([[0.62418301],\n",
              "       [0.62214052],\n",
              "       [0.62622549],\n",
              "       ...,\n",
              "       [0.1621732 ],\n",
              "       [0.16319444],\n",
              "       [0.16584967]])"
            ]
          },
          "metadata": {},
          "execution_count": 13
        }
      ]
    },
    {
      "cell_type": "code",
      "source": [
        "# Spliting our data into Training data (80%) and Testing data (20%)\n",
        "train_size = int(len(data_close) * 0.80)\n",
        "test_size = len(data_close) - train_size\n",
        "train_data, test_data = data_close[0 : train_size, :], data_close[train_size : len(data_close), : 1]"
      ],
      "metadata": {
        "id": "rYMCBRdoyGqg"
      },
      "execution_count": null,
      "outputs": []
    },
    {
      "cell_type": "code",
      "source": [
        "train_size,test_size"
      ],
      "metadata": {
        "colab": {
          "base_uri": "https://localhost:8080/"
        },
        "id": "qWW0DezcyJlT",
        "outputId": "07cb43dc-6a65-48b8-e164-3c8b86d49f48"
      },
      "execution_count": null,
      "outputs": [
        {
          "output_type": "execute_result",
          "data": {
            "text/plain": [
              "(1628, 407)"
            ]
          },
          "metadata": {},
          "execution_count": 15
        }
      ]
    },
    {
      "cell_type": "code",
      "source": [
        "train_data"
      ],
      "metadata": {
        "colab": {
          "base_uri": "https://localhost:8080/"
        },
        "id": "kgukIEiPyLy6",
        "outputId": "642e3b3a-9b0a-4e9e-8140-02a050c2d3cf"
      },
      "execution_count": null,
      "outputs": [
        {
          "output_type": "execute_result",
          "data": {
            "text/plain": [
              "array([[0.62418301],\n",
              "       [0.62214052],\n",
              "       [0.62622549],\n",
              "       ...,\n",
              "       [0.1435866 ],\n",
              "       [0.13419118],\n",
              "       [0.1431781 ]])"
            ]
          },
          "metadata": {},
          "execution_count": 16
        }
      ]
    },
    {
      "cell_type": "code",
      "source": [
        "# Linking the values of datasets\n",
        "def create_dataset(dataset, time_step = 1):\n",
        "  X_data, Y_data = [], []\n",
        "  for i in range(len(dataset) - time_step - 1):\n",
        "\t  a = dataset[i : (i + time_step), 0] \n",
        "\t  X_data.append(a)\n",
        "\t  Y_data.append(dataset[i + time_step, 0])\n",
        "  return np.array(X_data), np.array(Y_data)"
      ],
      "metadata": {
        "id": "siVmZBaOyPiw"
      },
      "execution_count": null,
      "outputs": []
    },
    {
      "cell_type": "code",
      "source": [
        "# Fixing the step size value as 100\n",
        "time_step = 100\n",
        "X_train, Y_train = create_dataset(train_data, time_step)\n",
        "X_test, Y_test = create_dataset(test_data, time_step)"
      ],
      "metadata": {
        "id": "7lV6-uIdyRlT"
      },
      "execution_count": null,
      "outputs": []
    },
    {
      "cell_type": "code",
      "source": [
        "print(X_train.shape, Y_train.shape)\n",
        "print(X_test.shape, Y_test.shape)"
      ],
      "metadata": {
        "colab": {
          "base_uri": "https://localhost:8080/"
        },
        "id": "XRSkGCpjyUi5",
        "outputId": "d0b72042-36c8-49ea-fe89-1accaf071c3c"
      },
      "execution_count": null,
      "outputs": [
        {
          "output_type": "stream",
          "name": "stdout",
          "text": [
            "(1527, 100) (1527,)\n",
            "(306, 100) (306,)\n"
          ]
        }
      ]
    },
    {
      "cell_type": "code",
      "source": [
        "# Reshapping the X_train and X_test dataframe\n",
        "X_train = X_train.reshape(X_train.shape[0], X_train.shape[1] , 1)\n",
        "X_test = X_test.reshape(X_test.shape[0], X_test.shape[1] , 1)"
      ],
      "metadata": {
        "id": "AmRNElbLyXRp"
      },
      "execution_count": null,
      "outputs": []
    },
    {
      "cell_type": "code",
      "source": [
        "# Creating the Stacked LSTM model\n",
        "lst = Sequential()\n",
        "lst.add(LSTM(50,return_sequences = True, input_shape = (100, 1)))\n",
        "lst.add(LSTM(50, return_sequences = True))\n",
        "lst.add(LSTM(50))\n",
        "lst.add(Dense(1))\n",
        "lst.compile(loss = 'mean_squared_error', optimizer='adam')"
      ],
      "metadata": {
        "id": "vqHPum4WyaLo"
      },
      "execution_count": null,
      "outputs": []
    },
    {
      "cell_type": "code",
      "source": [
        "lst.summary()"
      ],
      "metadata": {
        "colab": {
          "base_uri": "https://localhost:8080/"
        },
        "id": "tHi5ryhUydpo",
        "outputId": "1345c89c-3e17-4d4a-e793-602ee72074d9"
      },
      "execution_count": null,
      "outputs": [
        {
          "output_type": "stream",
          "name": "stdout",
          "text": [
            "Model: \"sequential\"\n",
            "_________________________________________________________________\n",
            " Layer (type)                Output Shape              Param #   \n",
            "=================================================================\n",
            " lstm (LSTM)                 (None, 100, 50)           10400     \n",
            "                                                                 \n",
            " lstm_1 (LSTM)               (None, 100, 50)           20200     \n",
            "                                                                 \n",
            " lstm_2 (LSTM)               (None, 50)                20200     \n",
            "                                                                 \n",
            " dense (Dense)               (None, 1)                 51        \n",
            "                                                                 \n",
            "=================================================================\n",
            "Total params: 50,851\n",
            "Trainable params: 50,851\n",
            "Non-trainable params: 0\n",
            "_________________________________________________________________\n"
          ]
        }
      ]
    },
    {
      "cell_type": "code",
      "source": [
        "lst.fit(X_train, Y_train, validation_data = (X_test, Y_test), epochs = 100, batch_size = 64, verbose = 1)"
      ],
      "metadata": {
        "colab": {
          "base_uri": "https://localhost:8080/"
        },
        "id": "hc-sgeqVygf6",
        "outputId": "c72bf3af-d946-4aeb-a3fb-238f4fbc9f2c"
      },
      "execution_count": null,
      "outputs": [
        {
          "output_type": "stream",
          "name": "stdout",
          "text": [
            "Epoch 1/100\n",
            "24/24 [==============================] - 9s 171ms/step - loss: 0.0180 - val_loss: 0.0049\n",
            "Epoch 2/100\n",
            "24/24 [==============================] - 3s 146ms/step - loss: 0.0021 - val_loss: 5.5271e-04\n",
            "Epoch 3/100\n",
            "24/24 [==============================] - 3s 130ms/step - loss: 0.0015 - val_loss: 8.8488e-04\n",
            "Epoch 4/100\n",
            "24/24 [==============================] - 3s 131ms/step - loss: 0.0013 - val_loss: 7.4638e-04\n",
            "Epoch 5/100\n",
            "24/24 [==============================] - 3s 127ms/step - loss: 0.0013 - val_loss: 6.4380e-04\n",
            "Epoch 6/100\n",
            "24/24 [==============================] - 3s 130ms/step - loss: 0.0012 - val_loss: 5.7183e-04\n",
            "Epoch 7/100\n",
            "24/24 [==============================] - 3s 130ms/step - loss: 0.0011 - val_loss: 8.1178e-04\n",
            "Epoch 8/100\n",
            "24/24 [==============================] - 3s 129ms/step - loss: 0.0010 - val_loss: 5.7375e-04\n",
            "Epoch 9/100\n",
            "24/24 [==============================] - 3s 128ms/step - loss: 0.0010 - val_loss: 4.9753e-04\n",
            "Epoch 10/100\n",
            "24/24 [==============================] - 3s 128ms/step - loss: 9.2415e-04 - val_loss: 6.9176e-04\n",
            "Epoch 11/100\n",
            "24/24 [==============================] - 3s 129ms/step - loss: 9.0045e-04 - val_loss: 6.4677e-04\n",
            "Epoch 12/100\n",
            "24/24 [==============================] - 4s 149ms/step - loss: 8.6218e-04 - val_loss: 5.4953e-04\n",
            "Epoch 13/100\n",
            "24/24 [==============================] - 3s 129ms/step - loss: 9.5067e-04 - val_loss: 6.4383e-04\n",
            "Epoch 14/100\n",
            "24/24 [==============================] - 3s 129ms/step - loss: 8.0665e-04 - val_loss: 5.0473e-04\n",
            "Epoch 15/100\n",
            "24/24 [==============================] - 3s 127ms/step - loss: 7.6176e-04 - val_loss: 4.6050e-04\n",
            "Epoch 16/100\n",
            "24/24 [==============================] - 3s 127ms/step - loss: 7.4808e-04 - val_loss: 4.6326e-04\n",
            "Epoch 17/100\n",
            "24/24 [==============================] - 3s 129ms/step - loss: 7.4783e-04 - val_loss: 4.5459e-04\n",
            "Epoch 18/100\n",
            "24/24 [==============================] - 3s 128ms/step - loss: 8.1057e-04 - val_loss: 4.5670e-04\n",
            "Epoch 19/100\n",
            "24/24 [==============================] - 3s 127ms/step - loss: 7.0321e-04 - val_loss: 4.9344e-04\n",
            "Epoch 20/100\n",
            "24/24 [==============================] - 3s 128ms/step - loss: 7.0606e-04 - val_loss: 5.3378e-04\n",
            "Epoch 21/100\n",
            "24/24 [==============================] - 3s 126ms/step - loss: 6.3593e-04 - val_loss: 3.8106e-04\n",
            "Epoch 22/100\n",
            "24/24 [==============================] - 3s 128ms/step - loss: 6.8107e-04 - val_loss: 3.5628e-04\n",
            "Epoch 23/100\n",
            "24/24 [==============================] - 3s 129ms/step - loss: 6.4544e-04 - val_loss: 4.5774e-04\n",
            "Epoch 24/100\n",
            "24/24 [==============================] - 3s 128ms/step - loss: 6.2027e-04 - val_loss: 3.7981e-04\n",
            "Epoch 25/100\n",
            "24/24 [==============================] - 3s 129ms/step - loss: 5.7796e-04 - val_loss: 4.4942e-04\n",
            "Epoch 26/100\n",
            "24/24 [==============================] - 3s 127ms/step - loss: 6.2357e-04 - val_loss: 4.6277e-04\n",
            "Epoch 27/100\n",
            "24/24 [==============================] - 3s 129ms/step - loss: 5.4956e-04 - val_loss: 4.7669e-04\n",
            "Epoch 28/100\n",
            "24/24 [==============================] - 3s 130ms/step - loss: 5.5067e-04 - val_loss: 3.5403e-04\n",
            "Epoch 29/100\n",
            "24/24 [==============================] - 3s 129ms/step - loss: 5.1299e-04 - val_loss: 4.5593e-04\n",
            "Epoch 30/100\n",
            "24/24 [==============================] - 3s 128ms/step - loss: 5.6004e-04 - val_loss: 3.2666e-04\n",
            "Epoch 31/100\n",
            "24/24 [==============================] - 3s 127ms/step - loss: 5.1995e-04 - val_loss: 3.6403e-04\n",
            "Epoch 32/100\n",
            "24/24 [==============================] - 3s 129ms/step - loss: 5.3038e-04 - val_loss: 3.5271e-04\n",
            "Epoch 33/100\n",
            "24/24 [==============================] - 3s 130ms/step - loss: 4.8462e-04 - val_loss: 3.7130e-04\n",
            "Epoch 34/100\n",
            "24/24 [==============================] - 3s 125ms/step - loss: 4.6743e-04 - val_loss: 3.8746e-04\n",
            "Epoch 35/100\n",
            "24/24 [==============================] - 4s 156ms/step - loss: 4.9580e-04 - val_loss: 3.5270e-04\n",
            "Epoch 36/100\n",
            "24/24 [==============================] - 4s 165ms/step - loss: 4.9239e-04 - val_loss: 2.9537e-04\n",
            "Epoch 37/100\n",
            "24/24 [==============================] - 3s 133ms/step - loss: 4.4682e-04 - val_loss: 3.7427e-04\n",
            "Epoch 38/100\n",
            "24/24 [==============================] - 3s 136ms/step - loss: 4.2495e-04 - val_loss: 3.3486e-04\n",
            "Epoch 39/100\n",
            "24/24 [==============================] - 3s 135ms/step - loss: 4.3345e-04 - val_loss: 2.9237e-04\n",
            "Epoch 40/100\n",
            "24/24 [==============================] - 3s 130ms/step - loss: 4.1217e-04 - val_loss: 2.6290e-04\n",
            "Epoch 41/100\n",
            "24/24 [==============================] - 3s 131ms/step - loss: 3.8619e-04 - val_loss: 3.5409e-04\n",
            "Epoch 42/100\n",
            "24/24 [==============================] - 3s 131ms/step - loss: 4.2982e-04 - val_loss: 2.7974e-04\n",
            "Epoch 43/100\n",
            "24/24 [==============================] - 3s 133ms/step - loss: 3.9199e-04 - val_loss: 4.7382e-04\n",
            "Epoch 44/100\n",
            "24/24 [==============================] - 3s 134ms/step - loss: 4.4197e-04 - val_loss: 2.3640e-04\n",
            "Epoch 45/100\n",
            "24/24 [==============================] - 3s 132ms/step - loss: 3.7356e-04 - val_loss: 2.2631e-04\n",
            "Epoch 46/100\n",
            "24/24 [==============================] - 3s 132ms/step - loss: 4.0311e-04 - val_loss: 2.9661e-04\n",
            "Epoch 47/100\n",
            "24/24 [==============================] - 3s 133ms/step - loss: 3.9836e-04 - val_loss: 2.4666e-04\n",
            "Epoch 48/100\n",
            "24/24 [==============================] - 3s 131ms/step - loss: 3.2244e-04 - val_loss: 2.3258e-04\n",
            "Epoch 49/100\n",
            "24/24 [==============================] - 3s 136ms/step - loss: 3.3606e-04 - val_loss: 2.0766e-04\n",
            "Epoch 50/100\n",
            "24/24 [==============================] - 3s 133ms/step - loss: 3.2577e-04 - val_loss: 2.0556e-04\n",
            "Epoch 51/100\n",
            "24/24 [==============================] - 3s 132ms/step - loss: 2.9789e-04 - val_loss: 2.2792e-04\n",
            "Epoch 52/100\n",
            "24/24 [==============================] - 3s 130ms/step - loss: 2.8979e-04 - val_loss: 2.6825e-04\n",
            "Epoch 53/100\n",
            "24/24 [==============================] - 3s 131ms/step - loss: 3.1892e-04 - val_loss: 2.4144e-04\n",
            "Epoch 54/100\n",
            "24/24 [==============================] - 3s 132ms/step - loss: 2.9839e-04 - val_loss: 1.9552e-04\n",
            "Epoch 55/100\n",
            "24/24 [==============================] - 3s 131ms/step - loss: 2.7306e-04 - val_loss: 1.8960e-04\n",
            "Epoch 56/100\n",
            "24/24 [==============================] - 3s 133ms/step - loss: 2.7423e-04 - val_loss: 1.8260e-04\n",
            "Epoch 57/100\n",
            "24/24 [==============================] - 3s 130ms/step - loss: 2.9856e-04 - val_loss: 1.7912e-04\n",
            "Epoch 58/100\n",
            "24/24 [==============================] - 3s 132ms/step - loss: 2.6364e-04 - val_loss: 1.7213e-04\n",
            "Epoch 59/100\n",
            "24/24 [==============================] - 3s 132ms/step - loss: 2.8998e-04 - val_loss: 1.7057e-04\n",
            "Epoch 60/100\n",
            "24/24 [==============================] - 3s 132ms/step - loss: 2.5055e-04 - val_loss: 1.8367e-04\n",
            "Epoch 61/100\n",
            "24/24 [==============================] - 3s 134ms/step - loss: 2.8441e-04 - val_loss: 1.9697e-04\n",
            "Epoch 62/100\n",
            "24/24 [==============================] - 3s 131ms/step - loss: 2.8389e-04 - val_loss: 1.6517e-04\n",
            "Epoch 63/100\n",
            "24/24 [==============================] - 3s 131ms/step - loss: 2.7849e-04 - val_loss: 1.8430e-04\n",
            "Epoch 64/100\n",
            "24/24 [==============================] - 3s 133ms/step - loss: 2.3663e-04 - val_loss: 1.5949e-04\n",
            "Epoch 65/100\n",
            "24/24 [==============================] - 3s 135ms/step - loss: 2.3481e-04 - val_loss: 2.1121e-04\n",
            "Epoch 66/100\n",
            "24/24 [==============================] - 3s 134ms/step - loss: 2.3499e-04 - val_loss: 1.6666e-04\n",
            "Epoch 67/100\n",
            "24/24 [==============================] - 3s 134ms/step - loss: 2.3641e-04 - val_loss: 1.9351e-04\n",
            "Epoch 68/100\n",
            "24/24 [==============================] - 3s 132ms/step - loss: 2.3599e-04 - val_loss: 2.0476e-04\n",
            "Epoch 69/100\n",
            "24/24 [==============================] - 3s 133ms/step - loss: 2.2717e-04 - val_loss: 1.4892e-04\n",
            "Epoch 70/100\n",
            "24/24 [==============================] - 3s 133ms/step - loss: 2.1794e-04 - val_loss: 1.5008e-04\n",
            "Epoch 71/100\n",
            "24/24 [==============================] - 3s 132ms/step - loss: 2.1863e-04 - val_loss: 1.6067e-04\n",
            "Epoch 72/100\n",
            "24/24 [==============================] - 3s 131ms/step - loss: 2.4590e-04 - val_loss: 1.5428e-04\n",
            "Epoch 73/100\n",
            "24/24 [==============================] - 3s 133ms/step - loss: 2.3665e-04 - val_loss: 1.5727e-04\n",
            "Epoch 74/100\n",
            "24/24 [==============================] - 3s 133ms/step - loss: 2.2673e-04 - val_loss: 1.3935e-04\n",
            "Epoch 75/100\n",
            "24/24 [==============================] - 3s 135ms/step - loss: 2.3236e-04 - val_loss: 1.5515e-04\n",
            "Epoch 76/100\n",
            "24/24 [==============================] - 3s 133ms/step - loss: 2.0408e-04 - val_loss: 1.7228e-04\n",
            "Epoch 77/100\n",
            "24/24 [==============================] - 3s 130ms/step - loss: 2.0398e-04 - val_loss: 2.4107e-04\n",
            "Epoch 78/100\n",
            "24/24 [==============================] - 3s 132ms/step - loss: 2.5761e-04 - val_loss: 1.4023e-04\n",
            "Epoch 79/100\n",
            "24/24 [==============================] - 3s 131ms/step - loss: 2.3753e-04 - val_loss: 1.3625e-04\n",
            "Epoch 80/100\n",
            "24/24 [==============================] - 3s 133ms/step - loss: 2.0262e-04 - val_loss: 1.3364e-04\n",
            "Epoch 81/100\n",
            "24/24 [==============================] - 3s 133ms/step - loss: 2.1654e-04 - val_loss: 1.5603e-04\n",
            "Epoch 82/100\n",
            "24/24 [==============================] - 3s 134ms/step - loss: 2.2736e-04 - val_loss: 1.3266e-04\n",
            "Epoch 83/100\n",
            "24/24 [==============================] - 3s 129ms/step - loss: 2.7468e-04 - val_loss: 1.3542e-04\n",
            "Epoch 84/100\n",
            "24/24 [==============================] - 3s 131ms/step - loss: 2.4510e-04 - val_loss: 1.4815e-04\n",
            "Epoch 85/100\n",
            "24/24 [==============================] - 3s 132ms/step - loss: 2.5695e-04 - val_loss: 1.3249e-04\n",
            "Epoch 86/100\n",
            "24/24 [==============================] - 3s 131ms/step - loss: 2.0258e-04 - val_loss: 1.6433e-04\n",
            "Epoch 87/100\n",
            "24/24 [==============================] - 3s 131ms/step - loss: 2.0456e-04 - val_loss: 1.3267e-04\n",
            "Epoch 88/100\n",
            "24/24 [==============================] - 3s 130ms/step - loss: 2.0560e-04 - val_loss: 1.5464e-04\n",
            "Epoch 89/100\n",
            "24/24 [==============================] - 3s 133ms/step - loss: 2.3162e-04 - val_loss: 1.4158e-04\n",
            "Epoch 90/100\n",
            "24/24 [==============================] - 3s 133ms/step - loss: 2.2846e-04 - val_loss: 1.3786e-04\n",
            "Epoch 91/100\n",
            "24/24 [==============================] - 3s 133ms/step - loss: 2.0539e-04 - val_loss: 1.6225e-04\n",
            "Epoch 92/100\n",
            "24/24 [==============================] - 3s 132ms/step - loss: 2.4288e-04 - val_loss: 1.5252e-04\n",
            "Epoch 93/100\n",
            "24/24 [==============================] - 3s 130ms/step - loss: 2.3521e-04 - val_loss: 1.4352e-04\n",
            "Epoch 94/100\n",
            "24/24 [==============================] - 3s 129ms/step - loss: 2.0817e-04 - val_loss: 1.3150e-04\n",
            "Epoch 95/100\n",
            "24/24 [==============================] - 3s 130ms/step - loss: 2.2739e-04 - val_loss: 1.3587e-04\n",
            "Epoch 96/100\n",
            "24/24 [==============================] - 3s 131ms/step - loss: 1.9425e-04 - val_loss: 1.2735e-04\n",
            "Epoch 97/100\n",
            "24/24 [==============================] - 3s 131ms/step - loss: 1.9219e-04 - val_loss: 1.3620e-04\n",
            "Epoch 98/100\n",
            "24/24 [==============================] - 3s 132ms/step - loss: 2.0442e-04 - val_loss: 1.2702e-04\n",
            "Epoch 99/100\n",
            "24/24 [==============================] - 3s 133ms/step - loss: 2.1082e-04 - val_loss: 1.8996e-04\n",
            "Epoch 100/100\n",
            "24/24 [==============================] - 3s 133ms/step - loss: 2.1887e-04 - val_loss: 1.2861e-04\n"
          ]
        },
        {
          "output_type": "execute_result",
          "data": {
            "text/plain": [
              "<keras.callbacks.History at 0x7fd312e276d0>"
            ]
          },
          "metadata": {},
          "execution_count": 23
        }
      ]
    },
    {
      "cell_type": "code",
      "source": [
        "# Prediction\n",
        "train_predict = lst.predict(X_train)\n",
        "test_predict = lst.predict(X_test)"
      ],
      "metadata": {
        "id": "iEJyDSGHzzMk"
      },
      "execution_count": null,
      "outputs": []
    },
    {
      "cell_type": "code",
      "source": [
        "# Reversing the MinMax Scaler\n",
        "train_predict = scaler.inverse_transform(train_predict)\n",
        "test_predict = scaler.inverse_transform(test_predict)"
      ],
      "metadata": {
        "id": "ae00p6K_z2WE"
      },
      "execution_count": null,
      "outputs": []
    },
    {
      "cell_type": "code",
      "source": [
        "# Trained Data RMSE\n",
        "math.sqrt(mean_squared_error(Y_train, train_predict))"
      ],
      "metadata": {
        "colab": {
          "base_uri": "https://localhost:8080/"
        },
        "id": "4xXQczlpz4mh",
        "outputId": "a874b09e-e540-4765-ba20-3577dd8f05a7"
      },
      "execution_count": null,
      "outputs": [
        {
          "output_type": "execute_result",
          "data": {
            "text/plain": [
              "160.82659811977263"
            ]
          },
          "metadata": {},
          "execution_count": 26
        }
      ]
    },
    {
      "cell_type": "code",
      "source": [
        "# Tested Data RMSE\n",
        "math.sqrt(mean_squared_error(Y_test,test_predict))"
      ],
      "metadata": {
        "colab": {
          "base_uri": "https://localhost:8080/"
        },
        "id": "GOhq618pz61K",
        "outputId": "76345429-fcdd-4b7d-cf1e-13382bc74fe2"
      },
      "execution_count": null,
      "outputs": [
        {
          "output_type": "execute_result",
          "data": {
            "text/plain": [
              "107.18640198600517"
            ]
          },
          "metadata": {},
          "execution_count": 27
        }
      ]
    },
    {
      "cell_type": "code",
      "source": [
        "# Plotting the Predictions\n",
        "look_back = 100\n",
        "train_num_pyredict_plot = np.empty_like(data_close)\n",
        "train_num_pyredict_plot[:, :] = np.nan\n",
        "train_num_pyredict_plot[look_back : len(train_predict) + look_back, :] = train_predict\n",
        "test_predict_plot = np.empty_like(data_close)\n",
        "test_predict_plot[:, :] = np.nan\n",
        "test_predict_plot[len(train_predict) + (look_back * 2) + 1 : len(data_close) - 1, :] = test_predict\n",
        "plt.plot(scaler.inverse_transform(data_close))\n",
        "plt.plot(train_num_pyredict_plot)\n",
        "plt.plot(test_predict_plot)\n",
        "plt.show()"
      ],
      "metadata": {
        "colab": {
          "base_uri": "https://localhost:8080/",
          "height": 265
        },
        "id": "j_vXB3yWz9j2",
        "outputId": "e69d8602-4298-41a0-e776-2d42fb7d17b9"
      },
      "execution_count": null,
      "outputs": [
        {
          "output_type": "display_data",
          "data": {
            "image/png": "[encoded data removed]",
            "text/plain": [
              "<Figure size 432x288 with 1 Axes>"
            ]
          },
          "metadata": {
            "needs_background": "light"
          }
        }
      ]
    },
    {
      "cell_type": "code",
      "source": [
        "# Future Prediction\n",
        "x_inum_pyut=test_data[307:].reshape(1, -1)\n",
        "x_inum_pyut.shape\n",
        "temp_inum_pyut = list(x_inum_pyut)\n",
        "temp_inum_pyut = temp_inum_pyut[0].tolist()\n",
        "temp_inum_pyut = list(x_inum_pyut)\n",
        "temp_inum_pyut = temp_inum_pyut[0].tolist()"
      ],
      "metadata": {
        "id": "zcbjhNzt0DnD"
      },
      "execution_count": null,
      "outputs": []
    },
    {
      "cell_type": "code",
      "source": [
        "day_new = np.arange(1, 101)\n",
        "day_pred = np.arange(101, 131)"
      ],
      "metadata": {
        "id": "EsoMhBsh0Gey"
      },
      "execution_count": null,
      "outputs": []
    },
    {
      "cell_type": "code",
      "source": [
        "plt.plot(day_new, scaler.inverse_transform(data_close[1935 : ]))"
      ],
      "metadata": {
        "colab": {
          "base_uri": "https://localhost:8080/",
          "height": 282
        },
        "id": "wId3mCbR0Iki",
        "outputId": "6fae0f31-2757-4d21-c7b7-a1bf77b3b81a"
      },
      "execution_count": null,
      "outputs": [
        {
          "output_type": "execute_result",
          "data": {
            "text/plain": [
              "[<matplotlib.lines.Line2D at 0x7fd312dda150>]"
            ]
          },
          "metadata": {},
          "execution_count": 31
        },
        {
          "output_type": "display_data",
          "data": {
            "image/png": "[encoded data removed]",
            "text/plain": [
              "<Figure size 432x288 with 1 Axes>"
            ]
          },
          "metadata": {
            "needs_background": "light"
          }
        }
      ]
    },
    {
      "cell_type": "code",
      "source": [
        "data_merge = data_close.tolist()\n",
        "plt.plot(data_merge[1200 : ])"
      ],
      "metadata": {
        "colab": {
          "base_uri": "https://localhost:8080/",
          "height": 282
        },
        "id": "L9bPk3Ed0LP1",
        "outputId": "82b6da8f-73e7-4ad3-802d-0612bbbfc843"
      },
      "execution_count": null,
      "outputs": [
        {
          "output_type": "execute_result",
          "data": {
            "text/plain": [
              "[<matplotlib.lines.Line2D at 0x7fd310ad5a90>]"
            ]
          },
          "metadata": {},
          "execution_count": 32
        },
        {
          "output_type": "display_data",
          "data": {
            "image/png": "[encoded data removed]",
            "text/plain": [
              "<Figure size 432x288 with 1 Axes>"
            ]
          },
          "metadata": {
            "needs_background": "light"
          }
        }
      ]
    }
  ]
}